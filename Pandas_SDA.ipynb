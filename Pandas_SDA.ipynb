{
 "cells": [
  {
   "cell_type": "code",
   "execution_count": 1,
   "id": "480325f3-4eab-48eb-a0ef-f77bfc79e727",
   "metadata": {},
   "outputs": [
    {
     "name": "stdout",
     "output_type": "stream",
     "text": [
      "Hello SDA\n"
     ]
    }
   ],
   "source": [
    "print(\"Hello SDA\")"
   ]
  },
  {
   "cell_type": "code",
   "execution_count": 3,
   "id": "e63f969b-921f-4de2-b539-e4973ea4d5fb",
   "metadata": {},
   "outputs": [],
   "source": [
    "import pandas as pd"
   ]
  },
  {
   "cell_type": "code",
   "execution_count": null,
   "id": "d024f6d8-5ab2-4195-a14a-35943fa2828c",
   "metadata": {},
   "outputs": [],
   "source": []
  }
 ],
 "metadata": {
  "kernelspec": {
   "display_name": "venv_sda",
   "language": "python",
   "name": "venv_sda"
  },
  "language_info": {
   "codemirror_mode": {
    "name": "ipython",
    "version": 3
   },
   "file_extension": ".py",
   "mimetype": "text/x-python",
   "name": "python",
   "nbconvert_exporter": "python",
   "pygments_lexer": "ipython3",
   "version": "3.9.13"
  }
 },
 "nbformat": 4,
 "nbformat_minor": 5
}
